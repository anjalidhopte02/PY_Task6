{
 "cells": [
  {
   "cell_type": "markdown",
   "id": "f9aafc5d-ecc1-4d1e-9fe0-47e694ce0221",
   "metadata": {},
   "source": [
    "## Task 6 :\n",
    "* create a function to return dict of user data\n",
    "* take value from input\n",
    "* check age and select correct age_category\n",
    "* return dict of userdata as follows\n",
    "* {'userId': 1, name: 'user1', age: 24, age_category: 'adult'}"
   ]
  },
  {
   "cell_type": "code",
   "execution_count": 1,
   "id": "9b95a6d9-fb65-4444-adb1-98430ac117af",
   "metadata": {},
   "outputs": [
    {
     "name": "stdin",
     "output_type": "stream",
     "text": [
      "Enter user_id: 1\n",
      "Enter name: user1\n",
      "Enter age: 24\n"
     ]
    },
    {
     "name": "stdout",
     "output_type": "stream",
     "text": [
      "The return dictionary is: {'user_id': '1', 'name': 'user1', 'age': 24, 'age_category': 'adult'}\n"
     ]
    }
   ],
   "source": [
    "def user_data(user_id, name, age):\n",
    "  user = {\n",
    "      'user_id': user_id,\n",
    "      'name': name,\n",
    "      'age': age\n",
    "  }\n",
    "\n",
    "  if age <= 18:\n",
    "      user['age_category'] = \"child\"\n",
    "  elif age > 18:\n",
    "      user['age_category'] = \"adult\"\n",
    "  else:\n",
    "      user['age_category'] = \"senior\"\n",
    "\n",
    "  return user\n",
    "\n",
    "user_id = input('Enter user_id:')\n",
    "name = input('Enter name:')\n",
    "age = int(input('Enter age:'))\n",
    "\n",
    "user_info = user_data(user_id, name, age)\n",
    "print('The return dictionary is:', user_info)"
   ]
  },
  {
   "cell_type": "code",
   "execution_count": null,
   "id": "62935467-2560-4901-9cd9-c3cf77e62e0e",
   "metadata": {},
   "outputs": [],
   "source": []
  }
 ],
 "metadata": {
  "kernelspec": {
   "display_name": "Python 3 (ipykernel)",
   "language": "python",
   "name": "python3"
  },
  "language_info": {
   "codemirror_mode": {
    "name": "ipython",
    "version": 3
   },
   "file_extension": ".py",
   "mimetype": "text/x-python",
   "name": "python",
   "nbconvert_exporter": "python",
   "pygments_lexer": "ipython3",
   "version": "3.12.4"
  }
 },
 "nbformat": 4,
 "nbformat_minor": 5
}
